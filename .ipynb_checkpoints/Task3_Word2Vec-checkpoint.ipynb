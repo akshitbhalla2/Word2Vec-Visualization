{
 "cells": [
  {
   "cell_type": "markdown",
   "metadata": {},
   "source": [
    "# Interactive Recommendation System with Word Embeddings using Word2Vec, Plotly, and NetworkX\n",
    "\n",
    "## Project Breakdown\n",
    "- Task 1: Introduction\n",
    "- Task 2: Exploratory Data Analysis and Preprocessing\n",
    "- Task 3: Word2Vec with Gensim (you are here)\n",
    "- Task 4: Exploring Results\n",
    "- Task 5: Building and Visualizing Interactive Network Graph\n",
    "\n",
    "## Task 3: Word2Vec with Gensim\n",
    "Word2Vec original papers can be found [here](https://arxiv.org/pdf/1301.3781.pdf) and [here](https://arxiv.org/pdf/1310.4546.pdf), while the documentation for the Gensim model can be found [here](https://radimrehurek.com/gensim/models/word2vec.html).\n",
    "\n",
    "![Word2Vec architecture](Data/word2vec.jpeg)"
   ]
  },
  {
   "cell_type": "code",
   "execution_count": 1,
   "metadata": {},
   "outputs": [],
   "source": [
    "from gensim.models.word2vec import Word2Vec\n",
    "from tqdm import tqdm\n",
    "import pandas as pd\n",
    "import pickle"
   ]
  },
  {
   "cell_type": "code",
   "execution_count": 2,
   "metadata": {},
   "outputs": [],
   "source": [
    "train_data = pickle.load(open(\"./Data/train_data.pkl\", \"rb\"))"
   ]
  },
  {
   "cell_type": "code",
   "execution_count": 3,
   "metadata": {},
   "outputs": [],
   "source": [
    "model = Word2Vec()"
   ]
  },
  {
   "cell_type": "code",
   "execution_count": 4,
   "metadata": {},
   "outputs": [],
   "source": [
    "model.build_vocab(train_data)"
   ]
  },
  {
   "cell_type": "code",
   "execution_count": 5,
   "metadata": {},
   "outputs": [
    {
     "name": "stdout",
     "output_type": "stream",
     "text": [
      "CPU times: user 2min 7s, sys: 345 ms, total: 2min 7s\n",
      "Wall time: 43.2 s\n"
     ]
    },
    {
     "data": {
      "text/plain": [
       "(67633851, 81118765)"
      ]
     },
     "execution_count": 5,
     "metadata": {},
     "output_type": "execute_result"
    }
   ],
   "source": [
    "%%time\n",
    "model.train(\n",
    "    train_data, \n",
    "    total_examples = model.corpus_count, \n",
    "    epochs = model.epochs\n",
    ")"
   ]
  },
  {
   "cell_type": "code",
   "execution_count": 6,
   "metadata": {},
   "outputs": [
    {
     "data": {
      "text/plain": [
       "[('mesclun', 0.7851408123970032),\n",
       " ('dressing', 0.7791105508804321),\n",
       " ('vinaigrette', 0.7282365560531616),\n",
       " ('mizuna', 0.7002274990081787),\n",
       " ('dressed', 0.6980729699134827),\n",
       " ('caesar', 0.6848417520523071),\n",
       " ('lettuces', 0.6838010549545288),\n",
       " ('slaw', 0.6818397045135498),\n",
       " ('salads', 0.6788983345031738),\n",
       " ('frisée', 0.6782753467559814),\n",
       " ('thousand', 0.6738550066947937),\n",
       " ('tabbouleh', 0.644822359085083),\n",
       " ('frisee', 0.6398942470550537),\n",
       " ('panzanella', 0.6342629194259644),\n",
       " ('mâche', 0.6336913704872131),\n",
       " ('mache', 0.6291115880012512),\n",
       " ('zesty', 0.6139935255050659),\n",
       " ('cress', 0.6128290295600891),\n",
       " ('tossed', 0.6127486228942871),\n",
       " ('watercress', 0.6112533211708069)]"
      ]
     },
     "execution_count": 6,
     "metadata": {},
     "output_type": "execute_result"
    }
   ],
   "source": [
    "model.wv.most_similar([\"salad\"], topn = 20)"
   ]
  },
  {
   "cell_type": "code",
   "execution_count": 7,
   "metadata": {},
   "outputs": [],
   "source": [
    "model.save(\"./Data/w2v.model\")"
   ]
  },
  {
   "cell_type": "code",
   "execution_count": null,
   "metadata": {},
   "outputs": [],
   "source": []
  }
 ],
 "metadata": {
  "kernelspec": {
   "display_name": "Python 3",
   "language": "python",
   "name": "python3"
  },
  "language_info": {
   "codemirror_mode": {
    "name": "ipython",
    "version": 3
   },
   "file_extension": ".py",
   "mimetype": "text/x-python",
   "name": "python",
   "nbconvert_exporter": "python",
   "pygments_lexer": "ipython3",
   "version": "3.7.4"
  }
 },
 "nbformat": 4,
 "nbformat_minor": 4
}
